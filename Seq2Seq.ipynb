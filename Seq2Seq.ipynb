{
 "cells": [
  {
   "cell_type": "code",
   "execution_count": 1,
   "id": "c7fa7fde",
   "metadata": {},
   "outputs": [],
   "source": [
    "import torch\n",
    "import torch.nn as nn\n",
    "import torch.optim as optim\n",
    "from torchtext.legacy.datasets import Multi30k\n",
    "from torchtext.legacy.data import Field, BucketIterator\n",
    "\n",
    "import spacy\n",
    "import numpy as np\n",
    "import random\n",
    "import math\n",
    "import time"
   ]
  },
  {
   "cell_type": "code",
   "execution_count": 2,
   "id": "b14b6f71",
   "metadata": {},
   "outputs": [],
   "source": [
    "CUDA_IS_AVAILABLE = True if torch.cuda.is_available() else False\n",
    "SEED = 1\n",
    "random.seed(SEED)\n",
    "np.random.seed(SEED)\n",
    "torch.manual_seed(SEED)\n",
    "if CUDA_IS_AVAILABLE:\n",
    "    torch.cuda.manual_seed(SEED)\n",
    "    device = torch.device('cuda:0')\n",
    "else:\n",
    "    device = None"
   ]
  },
  {
   "cell_type": "markdown",
   "id": "4666a624",
   "metadata": {},
   "source": [
    "### 数据预处理"
   ]
  },
  {
   "cell_type": "code",
   "execution_count": 3,
   "id": "c8de6413",
   "metadata": {},
   "outputs": [],
   "source": [
    "spacy_de = spacy.load('de_core_news_sm')\n",
    "spacy_en = spacy.load('en_core_web_sm')"
   ]
  },
  {
   "cell_type": "code",
   "execution_count": 4,
   "id": "1b4453ad",
   "metadata": {},
   "outputs": [],
   "source": [
    "def tokenize_de(text):\n",
    "    return [tok.text for tok in spacy_de.tokenizer(text)][::-1]\n",
    "def tokenize_en(text):\n",
    "    return [tok.text for tok in spacy_en.tokenizer(text)]"
   ]
  },
  {
   "cell_type": "code",
   "execution_count": 5,
   "id": "d3dc3095",
   "metadata": {},
   "outputs": [],
   "source": [
    "SRC = Field(tokenize = tokenize_de, \n",
    "            init_token = '<sos>', \n",
    "            eos_token = '<eos>', \n",
    "            lower = True)\n",
    "\n",
    "TRG = Field(tokenize = tokenize_en, \n",
    "            init_token = '<sos>', \n",
    "            eos_token = '<eos>', \n",
    "            lower = True)"
   ]
  },
  {
   "cell_type": "code",
   "execution_count": 6,
   "id": "a5ba94cf",
   "metadata": {},
   "outputs": [],
   "source": [
    "\"\"\"\n",
    "Multi30k.splits(\n",
    "    exts,\n",
    "    fields,\n",
    "    root='.data',\n",
    "    train='train',\n",
    "    validation='val',\n",
    "    test='test2016',\n",
    "    **kwargs,\n",
    ")\n",
    "\"\"\"\n",
    "\n",
    "train_data, valid_data, test_data = Multi30k.splits(exts = ('.de', '.en'),\n",
    "                                                    root='.',\n",
    "                                                    train='train',\n",
    "                                                    validation='val',\n",
    "                                                    test='test',\n",
    "                                                    fields = (SRC, TRG))"
   ]
  },
  {
   "cell_type": "code",
   "execution_count": 7,
   "id": "f667cb71",
   "metadata": {},
   "outputs": [
    {
     "data": {
      "text/plain": [
       "<torchtext.legacy.datasets.translation.Multi30k at 0x1cbc88fc730>"
      ]
     },
     "execution_count": 7,
     "metadata": {},
     "output_type": "execute_result"
    }
   ],
   "source": [
    "train_data"
   ]
  },
  {
   "cell_type": "code",
   "execution_count": 8,
   "id": "0fa62310",
   "metadata": {},
   "outputs": [
    {
     "name": "stdout",
     "output_type": "stream",
     "text": [
      "Number of training examples: 29000\n",
      "Number of validation examples: 1014\n",
      "Number of testing examples: 1000\n"
     ]
    }
   ],
   "source": [
    "print(f\"Number of training examples: {len(train_data.examples)}\")\n",
    "print(f\"Number of validation examples: {len(valid_data.examples)}\")\n",
    "print(f\"Number of testing examples: {len(test_data.examples)}\")"
   ]
  },
  {
   "cell_type": "code",
   "execution_count": 9,
   "id": "8fe3c086",
   "metadata": {},
   "outputs": [
    {
     "name": "stdout",
     "output_type": "stream",
     "text": [
      "{'src': ['.', 'büsche', 'vieler', 'nähe', 'der', 'in', 'freien', 'im', 'sind', 'männer', 'weiße', 'junge', 'zwei'], 'trg': ['two', 'young', ',', 'white', 'males', 'are', 'outside', 'near', 'many', 'bushes', '.']}\n"
     ]
    }
   ],
   "source": [
    "print(vars(train_data.examples[0]))"
   ]
  },
  {
   "cell_type": "code",
   "execution_count": 10,
   "id": "5b1df123",
   "metadata": {},
   "outputs": [],
   "source": [
    "SRC.build_vocab(train_data, min_freq = 2)\n",
    "TRG.build_vocab(train_data, min_freq = 2)"
   ]
  },
  {
   "cell_type": "code",
   "execution_count": 11,
   "id": "f0736f1a",
   "metadata": {},
   "outputs": [
    {
     "data": {
      "text/plain": [
       "<torchtext.legacy.datasets.translation.Multi30k at 0x1cbc88fc730>"
      ]
     },
     "execution_count": 11,
     "metadata": {},
     "output_type": "execute_result"
    }
   ],
   "source": [
    "train_data"
   ]
  },
  {
   "cell_type": "code",
   "execution_count": 12,
   "id": "b0c0b7a7",
   "metadata": {},
   "outputs": [
    {
     "name": "stdout",
     "output_type": "stream",
     "text": [
      "Unique tokens in source (de) vocabulary: 7853\n",
      "Unique tokens in target (en) vocabulary: 5893\n"
     ]
    }
   ],
   "source": [
    "print(f\"Unique tokens in source (de) vocabulary: {len(SRC.vocab)}\")\n",
    "print(f\"Unique tokens in target (en) vocabulary: {len(TRG.vocab)}\")"
   ]
  },
  {
   "cell_type": "code",
   "execution_count": 13,
   "id": "5c3bd989",
   "metadata": {},
   "outputs": [],
   "source": [
    "BATCH_SIZE = 128\n",
    "\n",
    "train_iterator, valid_iterator, test_iterator = BucketIterator.splits(\n",
    "    (train_data, valid_data, test_data),\n",
    "    batch_size = BATCH_SIZE,\n",
    "    device = device\n",
    ")"
   ]
  },
  {
   "cell_type": "code",
   "execution_count": 14,
   "id": "cbbf1b66",
   "metadata": {},
   "outputs": [
    {
     "data": {
      "text/plain": [
       "\n",
       "[torchtext.legacy.data.batch.Batch of size 128 from MULTI30K]\n",
       "\t[.src]:[torch.cuda.LongTensor of size 34x128 (GPU 0)]\n",
       "\t[.trg]:[torch.cuda.LongTensor of size 41x128 (GPU 0)]"
      ]
     },
     "execution_count": 14,
     "metadata": {},
     "output_type": "execute_result"
    }
   ],
   "source": [
    "batch = next(iter(train_iterator))\n",
    "batch"
   ]
  },
  {
   "cell_type": "code",
   "execution_count": 15,
   "id": "399de288",
   "metadata": {},
   "outputs": [
    {
     "name": "stdout",
     "output_type": "stream",
     "text": [
      "tensor([[   2,    2,    2,  ...,    2,    2,    2],\n",
      "        [   4,    4,    4,  ...,    4,    4,    4],\n",
      "        [1365, 2921,    0,  ...,  129,   69,  215],\n",
      "        ...,\n",
      "        [   1,    1,    1,  ...,    1,    1,    1],\n",
      "        [   1,    1,    1,  ...,    1,    1,    1],\n",
      "        [   1,    1,    1,  ...,    1,    1,    1]], device='cuda:0')\n",
      "tensor([[  2,   2,   2,  ...,   2,   2,   2],\n",
      "        [  4,  16,   4,  ...,   4,   4,  16],\n",
      "        [  9,  19,  53,  ...,   9, 762, 127],\n",
      "        ...,\n",
      "        [  1,   1,   1,  ...,   1,   1,   1],\n",
      "        [  1,   1,   1,  ...,   1,   1,   1],\n",
      "        [  1,   1,   1,  ...,   1,   1,   1]], device='cuda:0')\n"
     ]
    }
   ],
   "source": [
    "print(batch.src)\n",
    "print(batch.trg)"
   ]
  },
  {
   "cell_type": "code",
   "execution_count": 16,
   "id": "67a7c2c6",
   "metadata": {},
   "outputs": [
    {
     "name": "stdout",
     "output_type": "stream",
     "text": [
      "<sos> . stift einen hält und sofa einem auf liegt tätowierungen mit mann ein <eos> <pad> <pad> <pad> <pad> <pad> <pad> <pad> <pad> <pad> <pad> <pad> <pad> <pad> <pad> <pad> <pad> <pad> <pad> <pad>\n"
     ]
    }
   ],
   "source": [
    "text = \" \".join(SRC.vocab.itos[i] for i in batch.src[:,0])\n",
    "print(text)"
   ]
  },
  {
   "cell_type": "code",
   "execution_count": 17,
   "id": "c8c8dded",
   "metadata": {},
   "outputs": [
    {
     "name": "stdout",
     "output_type": "stream",
     "text": [
      "<sos> a man with tattoos is lounging on a couch holding a pencil . <eos> <pad> <pad> <pad> <pad> <pad> <pad> <pad> <pad> <pad> <pad> <pad> <pad> <pad> <pad> <pad> <pad> <pad> <pad> <pad> <pad> <pad> <pad> <pad> <pad> <pad> <pad>\n"
     ]
    }
   ],
   "source": [
    "text = \" \".join(TRG.vocab.itos[i] for i in batch.trg[:,0])\n",
    "print(text)"
   ]
  },
  {
   "cell_type": "markdown",
   "id": "694e4d93",
   "metadata": {},
   "source": [
    "### 模型搭建"
   ]
  },
  {
   "cell_type": "markdown",
   "id": "881ae37e",
   "metadata": {},
   "source": [
    "#### Encoder"
   ]
  },
  {
   "cell_type": "code",
   "execution_count": 18,
   "id": "54958500",
   "metadata": {},
   "outputs": [],
   "source": [
    "class Encoder(nn.Module):\n",
    "    def __init__(self, embedding_size, src_vocab_size, hidden_size, n_layers, dropout):\n",
    "        super().__init__()\n",
    "        \n",
    "        self.embedding_size = embedding_size\n",
    "        self.src_vocab_size = src_vocab_size\n",
    "        self.hidden_size = hidden_size\n",
    "        self.n_layers = n_layers\n",
    "        self.dropout = dropout\n",
    "        \n",
    "        self.embedding = nn.Embedding(src_vocab_size, embedding_size)\n",
    "        self.lstm = nn.LSTM(embedding_size, hidden_size, n_layers, dropout=dropout)\n",
    "        self.dropout = nn.Dropout(dropout)\n",
    "    \n",
    "    def forward(self, src):\n",
    "        # src => [seq_len, batch_size]\n",
    "        embedded = self.embedding(src) # embedded => [seq_len, batch_size, embedding_size]\n",
    "        output, (hidden, cell) = self.lstm(embedded)\n",
    "#         output => [seq_len, batch_size, hidden_size]\n",
    "#         hidden => [n_layers, batch_size, hidden_size]\n",
    "#         cell => [n_layers, batch_size, hidden_size]\n",
    "        return hidden, cell"
   ]
  },
  {
   "cell_type": "markdown",
   "id": "cbbc4634",
   "metadata": {},
   "source": [
    "#### Decoder"
   ]
  },
  {
   "cell_type": "code",
   "execution_count": 19,
   "id": "21474b87",
   "metadata": {},
   "outputs": [],
   "source": [
    "class Decoder(nn.Module):\n",
    "    def __init__(self, embedding_size, hidden_size, trg_vocab_size, n_layers, dropout):\n",
    "        super().__init__()\n",
    "        \n",
    "        self.embedding_size = embedding_size\n",
    "        self.hidden_size = hidden_size\n",
    "        self.trg_vocab_size = trg_vocab_size\n",
    "        self.n_layers = n_layers\n",
    "        self.dropout = dropout\n",
    "        \n",
    "        self.embedd = nn.Embedding(trg_vocab_size, embedding_size)\n",
    "        self.lstm = nn.LSTM(embedding_size, hidden_size, n_layers, dropout=dropout)\n",
    "        self.linear = nn.Linear(hidden_size, trg_vocab_size)\n",
    "        self.dropout = nn.Dropout(dropout)\n",
    "    \n",
    "    def forward(self, input, hidden, cell):\n",
    "#         input => [batch_size]\n",
    "#         hidden => [n_layers, batch_size, hidden_size]\n",
    "#         cell => [n_layers, batch_size, hidden_size]\n",
    "        input = input.unsqueeze(0) # input => [1, batch_size]\n",
    "        embedded = self.embedd(input) # embedded => [1, batch_size, embedding_size]\n",
    "        output, (hidden, cell) = self.lstm(embedded, (hidden, cell))\n",
    "#         output => [1, batch_size, hidden_size]\n",
    "#         hidden => [n_layers, batch_size, hidden_size]\n",
    "#         cell => [n_layers, batch_size, hidden_size]\n",
    "        prediction = self.linear(output.squeeze(0)) # prediction => [batch_size, trg_vocab_size]\n",
    "        \n",
    "        return prediction, hidden, cell"
   ]
  },
  {
   "cell_type": "markdown",
   "id": "5354c812",
   "metadata": {},
   "source": [
    "#### Seq2Seq"
   ]
  },
  {
   "cell_type": "code",
   "execution_count": 20,
   "id": "53e803b4",
   "metadata": {},
   "outputs": [],
   "source": [
    "class Seq2Seq(nn.Module):\n",
    "    def __init__(self, encoder, decoder, device):\n",
    "        super().__init__()\n",
    "        \n",
    "        self.encoder = encoder\n",
    "        self.decoder = decoder\n",
    "        self.device = device\n",
    "        \n",
    "        assert self.encoder.hidden_size == self.decoder.hidden_size\n",
    "        assert self.encoder.n_layers == self.decoder.n_layers\n",
    "        \n",
    "    def forward(self, src, trg, teacher_forcing_ratio=0.5):\n",
    "#         src => [src_seq_len, batch_size]\n",
    "#         trg => [trg_seq_len, batch_size]\n",
    "        batch_size = trg.shape[1]\n",
    "        trg_seq_len = trg.shape[0]\n",
    "        trg_vocab_size = self.decoder.trg_vocab_size\n",
    "        \n",
    "        outputs = torch.zeros(trg_seq_len, batch_size, trg_vocab_size).to(self.device)\n",
    "        # outputs => [trg_len, batch_size, trg_vocab_size]\n",
    "        \n",
    "        hidden, cell = self.encoder(src) \n",
    "#         hidden => [seq_len, batch_size, hidden_size]\n",
    "#         cell => [seq_len, batch_size, hidden_size]\n",
    "        input = trg[0,:] # 每条句子中的第一个符号索引 input => [batch_size]\n",
    "        \n",
    "        for t in range(1, trg_seq_len):\n",
    "            output, hidden, cell = self.decoder(input, hidden, cell)\n",
    "#             output => [batch_size, trg_vocab_size]\n",
    "#             hidden => [n_layers, batch_size, hidden_size]\n",
    "#             cell => [n_layers, batch_size, hidden_size]\n",
    "            outputs[t] = output \n",
    "            teacher_force = random.random() < teacher_forcing_ratio\n",
    "            top1 = output.argmax(1)\n",
    "            input = trg[t] if teacher_force else top1\n",
    "            \n",
    "        return outputs"
   ]
  },
  {
   "cell_type": "markdown",
   "id": "fc9eff9c",
   "metadata": {},
   "source": [
    "### 训练模型"
   ]
  },
  {
   "cell_type": "code",
   "execution_count": 21,
   "id": "edf63e54",
   "metadata": {},
   "outputs": [],
   "source": [
    "SRC_VOCAB_SIZE = len(SRC.vocab)\n",
    "TRG_VOCAB_SIZE = len(TRG.vocab)\n",
    "ENC_EMBEDDING_SIZE = 256\n",
    "DEC_EMBEDDING_SIZE = 256\n",
    "HIDDEN_SIZE = 512\n",
    "N_LAYERS = 2\n",
    "ENC_DROPOUT = 0.5\n",
    "DEC_DROPOUT = 0.5\n",
    "\n",
    "encoder = Encoder(ENC_EMBEDDING_SIZE, \n",
    "                  SRC_VOCAB_SIZE, \n",
    "                  HIDDEN_SIZE, \n",
    "                  N_LAYERS, \n",
    "                  ENC_DROPOUT)\n",
    "decoder = Decoder(DEC_EMBEDDING_SIZE,\n",
    "                  HIDDEN_SIZE,\n",
    "                  TRG_VOCAB_SIZE,\n",
    "                  N_LAYERS,\n",
    "                  DEC_DROPOUT)\n",
    "model = Seq2Seq(encoder, decoder, device).to(device)"
   ]
  },
  {
   "cell_type": "code",
   "execution_count": 22,
   "id": "786584ad",
   "metadata": {},
   "outputs": [
    {
     "data": {
      "text/plain": [
       "Seq2Seq(\n",
       "  (encoder): Encoder(\n",
       "    (embedding): Embedding(7853, 256)\n",
       "    (lstm): LSTM(256, 512, num_layers=2, dropout=0.5)\n",
       "    (dropout): Dropout(p=0.5, inplace=False)\n",
       "  )\n",
       "  (decoder): Decoder(\n",
       "    (embedd): Embedding(5893, 256)\n",
       "    (lstm): LSTM(256, 512, num_layers=2, dropout=0.5)\n",
       "    (linear): Linear(in_features=512, out_features=5893, bias=True)\n",
       "    (dropout): Dropout(p=0.5, inplace=False)\n",
       "  )\n",
       ")"
      ]
     },
     "execution_count": 22,
     "metadata": {},
     "output_type": "execute_result"
    }
   ],
   "source": [
    "def init_weights(m):\n",
    "    for name, param in m.named_parameters():\n",
    "        nn.init.uniform_(param.data, -0.08, 0.08)\n",
    "        \n",
    "model.apply(init_weights)"
   ]
  },
  {
   "cell_type": "code",
   "execution_count": 23,
   "id": "b2f49a4e",
   "metadata": {},
   "outputs": [
    {
     "name": "stdout",
     "output_type": "stream",
     "text": [
      "The model has 13898501 trainable_parameters.\n"
     ]
    }
   ],
   "source": [
    "def count_parameters(m):\n",
    "    return sum(p.numel() for p in model.parameters() if p.requires_grad)\n",
    "\n",
    "print(f\"The model has {count_parameters(model)} trainable_parameters.\")"
   ]
  },
  {
   "cell_type": "markdown",
   "id": "f6e18f36",
   "metadata": {},
   "source": [
    "#### 构建优化器"
   ]
  },
  {
   "cell_type": "code",
   "execution_count": 24,
   "id": "da1cb3df",
   "metadata": {},
   "outputs": [],
   "source": [
    "LEARNING_RATE = 0.005\n",
    "optimizer = optim.Adam(model.parameters(), lr=LEARNING_RATE)"
   ]
  },
  {
   "cell_type": "markdown",
   "id": "ce3001fc",
   "metadata": {},
   "source": [
    "#### 构建损失函数"
   ]
  },
  {
   "cell_type": "code",
   "execution_count": 25,
   "id": "492227bd",
   "metadata": {},
   "outputs": [
    {
     "data": {
      "text/plain": [
       "'<pad>'"
      ]
     },
     "execution_count": 25,
     "metadata": {},
     "output_type": "execute_result"
    }
   ],
   "source": [
    "TRG.pad_token"
   ]
  },
  {
   "cell_type": "code",
   "execution_count": 26,
   "id": "f54a5e14",
   "metadata": {},
   "outputs": [],
   "source": [
    "TRG_PAD_IDX = TRG.vocab.stoi[TRG.pad_token]\n",
    "loss_fn = nn.CrossEntropyLoss(ignore_index=TRG_PAD_IDX)"
   ]
  },
  {
   "cell_type": "markdown",
   "id": "3bd3c64c",
   "metadata": {},
   "source": [
    "#### 可视化网络架构"
   ]
  },
  {
   "cell_type": "code",
   "execution_count": 35,
   "id": "3130980f",
   "metadata": {},
   "outputs": [
    {
     "name": "stdout",
     "output_type": "stream",
     "text": [
      "模型结构保存完成...\n"
     ]
    }
   ],
   "source": [
    "from torchviz import make_dot\n",
    "\n",
    "batch = next(iter(train_iterator))\n",
    "src, trg = batch.src, batch.trg\n",
    "outputs = model(src, trg)\n",
    "g = make_dot(outputs, params=dict(list(model.named_parameters())))  # 实例化 make_dot\n",
    "g.view() # 可视化网络结构\n",
    "print(\"模型结构保存完成...\")"
   ]
  },
  {
   "cell_type": "markdown",
   "id": "a4a09d04",
   "metadata": {},
   "source": [
    "#### 训练函数"
   ]
  },
  {
   "cell_type": "code",
   "execution_count": 29,
   "id": "b469ba4b",
   "metadata": {},
   "outputs": [],
   "source": [
    "def train(model, iterator, optimizer, loss_fn, clip):\n",
    "    model.train() # 将模型调到训练模式\n",
    "    \n",
    "    epoch_loss = 0\n",
    "    for i, batch in enumerate(iterator):\n",
    "        src, trg = batch.src, batch.trg\n",
    "        optimizer.zero_grad() # 清空优化器的梯度信息\n",
    "        outputs = model(src, trg)\n",
    "        # outputs => [trg_len, batch_size, trg_vocab_size]\n",
    "        # trg => [trg_len, batch_size]\n",
    "        trg_vocab_size = outputs.shape[-1]\n",
    "        loss = loss_fn(outputs[1:].view(-1, trg_vocab_size), trg[1:].view(-1))\n",
    "        loss.backward() # 反向传播\n",
    "        torch.nn.utils.clip_grad_norm(model.parameters(), clip) # 梯度裁剪\n",
    "        optimizer.step() # 更新参数\n",
    "        epoch_loss += loss.item() # loss => scalar\n",
    "        \n",
    "    return epoch_loss / len(iterator) "
   ]
  },
  {
   "cell_type": "markdown",
   "id": "f5cf3674",
   "metadata": {},
   "source": [
    "#### 评估函数"
   ]
  },
  {
   "cell_type": "code",
   "execution_count": 30,
   "id": "26d32190",
   "metadata": {},
   "outputs": [],
   "source": [
    "def evaluate(model, iterator, loss_fn):\n",
    "    model.eval() # 将模型调到测试模式\n",
    "    epoch_loss = 0\n",
    "    for i, batch in enumerate(iterator):\n",
    "        src, trg = batch.src, batch.trg\n",
    "        outputs = model(src, trg, 0)\n",
    "        trg_vocab_size = outputs.shape[-1]\n",
    "        loss = loss_fn(outputs[1:].view(-1, trg_vocab_size), trg[1:].view(-1))\n",
    "        epoch_loss += loss.item()\n",
    "    \n",
    "    return epoch_loss / len(iterator)"
   ]
  },
  {
   "cell_type": "markdown",
   "id": "d1ccd986",
   "metadata": {},
   "source": [
    "#### compute every epoch time"
   ]
  },
  {
   "cell_type": "code",
   "execution_count": 31,
   "id": "739c83e9",
   "metadata": {},
   "outputs": [],
   "source": [
    "def epoch_time(start_time, end_time):\n",
    "    elapsed_time = end_time - start_time\n",
    "    elapsed_mins = int(elapsed_time / 60)\n",
    "    elapsed_secs = int(elapsed_time - (elapsed_mins * 60))\n",
    "    return elapsed_mins, elapsed_secs"
   ]
  },
  {
   "cell_type": "markdown",
   "id": "11d5bf42",
   "metadata": {},
   "source": [
    "#### 训练循环"
   ]
  },
  {
   "cell_type": "code",
   "execution_count": 32,
   "id": "474d68e3",
   "metadata": {},
   "outputs": [
    {
     "name": "stderr",
     "output_type": "stream",
     "text": [
      "C:\\Users\\ADMINI~1\\AppData\\Local\\Temp/ipykernel_10368/2505972525.py:14: UserWarning: torch.nn.utils.clip_grad_norm is now deprecated in favor of torch.nn.utils.clip_grad_norm_.\n",
      "  torch.nn.utils.clip_grad_norm(model.parameters(), clip) # 梯度裁剪\n"
     ]
    },
    {
     "name": "stdout",
     "output_type": "stream",
     "text": [
      "Epoch: 01 | time: 0min,35sec.\n",
      "\t Train Loss: 4.792 | Train PPL: 120.489\n",
      "\t   Val Loss: 5.071 |   Val PPL: 159.323\n",
      "Epoch: 02 | time: 0min,35sec.\n",
      "\t Train Loss: 4.330 | Train PPL:  75.967\n",
      "\t   Val Loss: 5.058 |   Val PPL: 157.280\n",
      "Epoch: 03 | time: 0min,36sec.\n",
      "\t Train Loss: 4.235 | Train PPL:  69.031\n",
      "\t   Val Loss: 5.056 |   Val PPL: 157.039\n",
      "Epoch: 04 | time: 0min,36sec.\n",
      "\t Train Loss: 4.114 | Train PPL:  61.220\n",
      "\t   Val Loss: 4.833 |   Val PPL: 125.528\n",
      "Epoch: 05 | time: 0min,37sec.\n",
      "\t Train Loss: 3.963 | Train PPL:  52.612\n",
      "\t   Val Loss: 4.681 |   Val PPL: 107.923\n",
      "Epoch: 06 | time: 0min,37sec.\n",
      "\t Train Loss: 3.798 | Train PPL:  44.610\n",
      "\t   Val Loss: 4.559 |   Val PPL:  95.470\n",
      "Epoch: 07 | time: 0min,37sec.\n",
      "\t Train Loss: 3.685 | Train PPL:  39.863\n",
      "\t   Val Loss: 4.422 |   Val PPL:  83.229\n",
      "Epoch: 08 | time: 0min,37sec.\n",
      "\t Train Loss: 3.616 | Train PPL:  37.181\n",
      "\t   Val Loss: 4.448 |   Val PPL:  85.414\n",
      "Epoch: 09 | time: 0min,37sec.\n",
      "\t Train Loss: 3.548 | Train PPL:  34.734\n",
      "\t   Val Loss: 4.437 |   Val PPL:  84.499\n",
      "Epoch: 10 | time: 0min,37sec.\n",
      "\t Train Loss: 3.482 | Train PPL:  32.509\n",
      "\t   Val Loss: 4.455 |   Val PPL:  86.030\n"
     ]
    }
   ],
   "source": [
    "EPOCHS = 10\n",
    "CLIP = 1\n",
    "\n",
    "best_valid_loss = float(\"inf\") # 默认正无穷\n",
    "for epoch in range(EPOCHS):\n",
    "    start_time = time.time()\n",
    "    \n",
    "    train_loss = train(model, train_iterator, optimizer, loss_fn, CLIP)\n",
    "    valid_loss = evaluate(model, valid_iterator, loss_fn)\n",
    "    \n",
    "    end_time = time.time()\n",
    "    \n",
    "    elapsed_mins, elapsed_secs = epoch_time(start_time, end_time)\n",
    "    \n",
    "    if valid_loss < best_valid_loss:\n",
    "        best_valid_loss = valid_loss\n",
    "        torch.save(model.state_dict(), 'best-model.pth')\n",
    "    \n",
    "    print(f'Epoch: {epoch+1:02} | time: {elapsed_mins}min,{elapsed_secs}sec.')\n",
    "    print(f'\\t Train Loss: {train_loss:.3f} | Train PPL: {math.exp(train_loss):7.3f}')\n",
    "    print(f'\\t   Val Loss: {valid_loss:.3f} |   Val PPL: {math.exp(valid_loss):7.3f}')"
   ]
  },
  {
   "cell_type": "markdown",
   "id": "bde83369",
   "metadata": {},
   "source": [
    "#### 测试模型"
   ]
  },
  {
   "cell_type": "code",
   "execution_count": 33,
   "id": "4694780e",
   "metadata": {},
   "outputs": [
    {
     "name": "stdout",
     "output_type": "stream",
     "text": [
      "| Test Loss: 4.452 | Test PPL:  85.792 |\n"
     ]
    }
   ],
   "source": [
    "model.load_state_dict(torch.load('best-model.pth'))\n",
    "test_loss = evaluate(model, test_iterator, loss_fn)\n",
    "print(f'| Test Loss: {test_loss:.3f} | Test PPL: {math.exp(test_loss):7.3f} |')"
   ]
  },
  {
   "cell_type": "code",
   "execution_count": null,
   "id": "8655c75c",
   "metadata": {},
   "outputs": [],
   "source": []
  }
 ],
 "metadata": {
  "kernelspec": {
   "display_name": "Python 3 (ipykernel)",
   "language": "python",
   "name": "python3"
  },
  "language_info": {
   "codemirror_mode": {
    "name": "ipython",
    "version": 3
   },
   "file_extension": ".py",
   "mimetype": "text/x-python",
   "name": "python",
   "nbconvert_exporter": "python",
   "pygments_lexer": "ipython3",
   "version": "3.9.7"
  }
 },
 "nbformat": 4,
 "nbformat_minor": 5
}
